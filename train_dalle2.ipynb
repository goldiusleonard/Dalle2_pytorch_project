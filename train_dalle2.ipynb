{
 "cells": [
  {
   "cell_type": "markdown",
   "metadata": {},
   "source": [
    "<font size=\"5\">Import Libraries</font>"
   ]
  },
  {
   "cell_type": "code",
   "execution_count": 1,
   "metadata": {},
   "outputs": [
    {
     "name": "stderr",
     "output_type": "stream",
     "text": [
      "C:\\Users\\Administrator\\AppData\\Local\\Programs\\Python\\Python310\\lib\\site-packages\\tqdm\\auto.py:22: TqdmWarning: IProgress not found. Please update jupyter and ipywidgets. See https://ipywidgets.readthedocs.io/en/stable/user_install.html\n",
      "  from .autonotebook import tqdm as notebook_tqdm\n"
     ]
    }
   ],
   "source": [
    "import torch\n",
    "from torch.optim.lr_scheduler import ExponentialLR\n",
    "from torchvision import transforms as T\n",
    "from pathlib import Path\n",
    "import os\n",
    "from tqdm import tqdm\n",
    "from dalle2_pytorch import DALLE2, DiffusionPriorNetwork, DiffusionPrior, Unet, Decoder, OpenAIClipAdapter\n",
    "from dalle2_pytorch.tokenizer import SimpleTokenizer\n",
    "from dalle2_pytorch.optimizer import get_optimizer\n",
    "from torchvision.datasets.coco import CocoCaptions"
   ]
  },
  {
   "cell_type": "markdown",
   "metadata": {},
   "source": [
    "<font size=\"5\">Setting Dataset & Training Parameters</font>"
   ]
  },
  {
   "cell_type": "code",
   "execution_count": 10,
   "metadata": {},
   "outputs": [],
   "source": [
    "# Change your input size here\n",
    "input_image_size = 256\n",
    "\n",
    "# Change your batch size here\n",
    "batch_size = 1\n",
    "\n",
    "# Change your epoch here\n",
    "epoch = 5\n",
    "\n",
    "# Change your train image root path here\n",
    "train_img_path = \"./train2014/\"\n",
    "\n",
    "# Change your train annot json path here\n",
    "train_annot_path = \"./coco_annotations/captions_train2014.json\"\n",
    "\n",
    "# Change your device (\"cpu\" or \"cuda\")\n",
    "device = \"cuda\"\n",
    "\n",
    "# Change your diffusion prior model save path here (end with \".pth\")\n",
    "diff_save_path = \"./diff_prior.pth\"\n",
    "\n",
    "# Change your diffusion prior model save path here (end with \".pth\")\n",
    "decoder_save_path = \"./decoder.pth\"\n",
    "\n",
    "# Change the model weight save path here (end with \".pth\")\n",
    "dalle2_save_path = \"./dalle2.pth\"\n",
    "\n",
    "# Change the test result image save path (should be a directory or folder)\n",
    "test_img_save_path = \"./result\"\n",
    "\n",
    "if not os.path.exists(test_img_save_path):\n",
    "    os.makedirs(test_img_save_path)"
   ]
  },
  {
   "cell_type": "markdown",
   "metadata": {},
   "source": [
    "<font size=\"5\">Data Preprocessing</font>"
   ]
  },
  {
   "cell_type": "code",
   "execution_count": 11,
   "metadata": {},
   "outputs": [
    {
     "name": "stdout",
     "output_type": "stream",
     "text": [
      "loading annotations into memory...\n",
      "Done (t=1.13s)\n",
      "creating index...\n",
      "index created!\n"
     ]
    }
   ],
   "source": [
    "transform = T.Compose([\n",
    "    T.Lambda(lambda img: img.convert('RGB') if img.mode != 'RGB' else img),\n",
    "    T.Resize(input_image_size),\n",
    "    T.CenterCrop(input_image_size),\n",
    "    T.ToTensor()\n",
    "])\n",
    "\n",
    "train_data = CocoCaptions(\n",
    "    root=train_img_path,\n",
    "    annFile=train_annot_path,\n",
    "    transform=transform\n",
    ")"
   ]
  },
  {
   "cell_type": "markdown",
   "metadata": {},
   "source": [
    "<font size=\"5\">Create Model</font>"
   ]
  },
  {
   "cell_type": "code",
   "execution_count": 4,
   "metadata": {},
   "outputs": [],
   "source": [
    "# openai pretrained clip - defaults to ViT/B-32\n",
    "OpenAIClip = OpenAIClipAdapter()\n",
    "\n",
    "prior_network = DiffusionPriorNetwork(\n",
    "    dim = 512,\n",
    "    depth = 6,\n",
    "    dim_head = 64,\n",
    "    heads = 8\n",
    ")\n",
    "\n",
    "diffusion_prior = DiffusionPrior(\n",
    "    net = prior_network,\n",
    "    clip = OpenAIClip,\n",
    "    timesteps = 100,\n",
    "    cond_drop_prob = 0.2\n",
    ").to(device)\n",
    "\n",
    "unet = Unet(\n",
    "    dim = 128,\n",
    "    image_embed_dim = 512,\n",
    "    cond_dim = 128,\n",
    "    channels = 3,\n",
    "    dim_mults=(1, 2, 4, 8)\n",
    ").to(device)\n",
    "\n",
    "# decoder, which contains the unet and clip\n",
    "\n",
    "decoder = Decoder(\n",
    "    unet = unet,\n",
    "    clip = OpenAIClip,\n",
    "    timesteps = 100,\n",
    "    image_cond_drop_prob = 0.1,\n",
    "    text_cond_drop_prob = 0.5,\n",
    "    condition_on_text_encodings=True\n",
    ").to(device)\n",
    "\n",
    "if os.path.exists(diff_save_path):\n",
    "    diffusion_prior.load_state_dict(torch.load(diff_save_path))\n",
    "\n",
    "if os.path.exists(decoder_save_path):\n",
    "    decoder.load_state_dict(torch.load(decoder_save_path))"
   ]
  },
  {
   "cell_type": "markdown",
   "metadata": {},
   "source": [
    "<font size=\"5\">Run training</font>"
   ]
  },
  {
   "cell_type": "code",
   "execution_count": 6,
   "metadata": {},
   "outputs": [
    {
     "ename": "NameError",
     "evalue": "name 'train_data' is not defined",
     "output_type": "error",
     "traceback": [
      "\u001b[1;31m---------------------------------------------------------------------------\u001b[0m",
      "\u001b[1;31mNameError\u001b[0m                                 Traceback (most recent call last)",
      "\u001b[1;32mc:\\Users\\Administrator\\Desktop\\Dalle2_pytorch_project-main\\train_dalle2.ipynb Cell 10'\u001b[0m in \u001b[0;36m<cell line: 1>\u001b[1;34m()\u001b[0m\n\u001b[1;32m----> <a href='vscode-notebook-cell:/c%3A/Users/Administrator/Desktop/Dalle2_pytorch_project-main/train_dalle2.ipynb#ch0000009?line=0'>1</a>\u001b[0m train_size \u001b[39m=\u001b[39m \u001b[39mlen\u001b[39m(train_data)\n\u001b[0;32m      <a href='vscode-notebook-cell:/c%3A/Users/Administrator/Desktop/Dalle2_pytorch_project-main/train_dalle2.ipynb#ch0000009?line=1'>2</a>\u001b[0m idx_list \u001b[39m=\u001b[39m \u001b[39mrange\u001b[39m(\u001b[39m0\u001b[39m, train_size, batch_size)\n\u001b[0;32m      <a href='vscode-notebook-cell:/c%3A/Users/Administrator/Desktop/Dalle2_pytorch_project-main/train_dalle2.ipynb#ch0000009?line=3'>4</a>\u001b[0m tokenizer \u001b[39m=\u001b[39m SimpleTokenizer()\n",
      "\u001b[1;31mNameError\u001b[0m: name 'train_data' is not defined"
     ]
    }
   ],
   "source": [
    "train_size = len(train_data)\n",
    "idx_list = range(0, train_size, batch_size)\n",
    "\n",
    "tokenizer = SimpleTokenizer()\n",
    "opt = get_optimizer(diffusion_prior.parameters())\n",
    "sched = ExponentialLR(opt, gamma=0.01)\n",
    "\n",
    "for curr_epoch in range(epoch):\n",
    "    print(\"Run training diffusion prior ...\")\n",
    "    print(f\"Epoch {curr_epoch+1} / {epoch}\")\n",
    "    \n",
    "    for batch_idx in tqdm(idx_list):\n",
    "        if (batch_idx + batch_size) > train_size - 1:\n",
    "            iter_idx = range(batch_idx, train_size, 1)\n",
    "        else:\n",
    "            iter_idx = range(batch_idx, batch_idx+batch_size, 1)\n",
    "\n",
    "        image_list = []\n",
    "        text_list = []\n",
    "        \n",
    "        for curr_idx in iter_idx:\n",
    "            image, target = train_data[curr_idx]\n",
    "            image = image.unsqueeze(0).to(device)\n",
    "\n",
    "            text = tokenizer.tokenize(target).to(device)\n",
    "\n",
    "            text_size = len(text)\n",
    "            for i in range(text_size):\n",
    "                image_list.append(image)\n",
    "            \n",
    "            text_list.append(text)\n",
    "\n",
    "        text = torch.cat(text_list, dim=0).to(device)\n",
    "        image = torch.cat(image_list, dim=0).to(device)\n",
    "    \n",
    "        loss = diffusion_prior(text, image)\n",
    "        opt.zero_grad()\n",
    "        loss.backward()\n",
    "        opt.step()\n",
    "\n",
    "        if batch_idx != 0 and batch_idx % 100 == 0:\n",
    "            torch.save(diffusion_prior.state_dict(), diff_save_path)\n",
    "            sched.step()\n",
    "\n",
    "        if batch_idx % 1000 == 0:\n",
    "            print(f\"loss: {loss.data}\")\n",
    "\n",
    "torch.save(diffusion_prior.state_dict(), diff_save_path)"
   ]
  },
  {
   "cell_type": "code",
   "execution_count": 12,
   "metadata": {},
   "outputs": [
    {
     "name": "stdout",
     "output_type": "stream",
     "text": [
      "Run training decoder ...\n",
      "Epoch 1 / 5\n"
     ]
    },
    {
     "name": "stderr",
     "output_type": "stream",
     "text": [
      "  0%|          | 1/82783 [00:00<18:45:50,  1.23it/s]"
     ]
    },
    {
     "name": "stdout",
     "output_type": "stream",
     "text": [
      "loss: 0.8478520512580872\n"
     ]
    },
    {
     "name": "stderr",
     "output_type": "stream",
     "text": [
      "  1%|          | 1001/82783 [11:28<41:51:19,  1.84s/it]"
     ]
    },
    {
     "name": "stdout",
     "output_type": "stream",
     "text": [
      "loss: 0.1316903829574585\n"
     ]
    },
    {
     "name": "stderr",
     "output_type": "stream",
     "text": [
      "  1%|▏         | 1137/82783 [13:00<14:47:25,  1.53it/s]"
     ]
    }
   ],
   "source": [
    "opt = get_optimizer(decoder.parameters())\n",
    "sched = ExponentialLR(opt, gamma=0.01)\n",
    "\n",
    "for curr_epoch in range(epoch):\n",
    "    print(\"Run training decoder ...\")\n",
    "    print(f\"Epoch {curr_epoch+1} / {epoch}\")\n",
    "    \n",
    "    for batch_idx in tqdm(idx_list):\n",
    "        if (batch_idx + batch_size) > train_size - 1:\n",
    "            iter_idx = range(batch_idx, train_size, 1)\n",
    "        else:\n",
    "            iter_idx = range(batch_idx, batch_idx+batch_size, 1)\n",
    "\n",
    "        image_list = []\n",
    "        text_list = []\n",
    "        \n",
    "        for curr_idx in iter_idx:\n",
    "            image, target = train_data[curr_idx]\n",
    "            image = image.unsqueeze(0).to(device)\n",
    "\n",
    "            text = tokenizer.tokenize(target).to(device)\n",
    "\n",
    "            text_size = len(text)\n",
    "            for i in range(text_size):\n",
    "                image_list.append(image)\n",
    "            \n",
    "            text_list.append(text)\n",
    "            \n",
    "        text = torch.cat(text_list, dim=0).to(device)\n",
    "        image = torch.cat(image_list, dim=0).to(device)\n",
    "\n",
    "        loss = decoder(image, text) # this can optionally be decoder(images, text) if you wish to condition on the text encodings as well, though it was hinted in the paper it didn't do much\n",
    "        opt.zero_grad()\n",
    "        loss.backward()\n",
    "        opt.step()\n",
    "\n",
    "        if batch_idx != 0 and batch_idx % 100 == 0:\n",
    "            torch.save(decoder.state_dict(), decoder_save_path)\n",
    "            sched.step()\n",
    "        \n",
    "        if batch_idx % 1000 == 0:\n",
    "            print(f\"loss: {loss.data}\")\n",
    "\n",
    "torch.save(decoder.state_dict(), decoder_save_path)"
   ]
  },
  {
   "cell_type": "markdown",
   "metadata": {},
   "source": [
    "<font size=\"5\">Save Trained Model and test on several text input</font>"
   ]
  },
  {
   "cell_type": "code",
   "execution_count": null,
   "metadata": {},
   "outputs": [],
   "source": [
    "dalle2 = DALLE2(\n",
    "    prior = diffusion_prior,\n",
    "    decoder = decoder\n",
    ").to(device)\n",
    "\n",
    "torch.save(dalle2.state_dict(), dalle2_save_path)\n",
    "\n",
    "test_input = ['Closeup of bins of food that include broccoli and bread.'] # text input for the model (can be more than one)\n",
    "\n",
    "test_img_tensors = dalle2(\n",
    "    test_input,\n",
    "    cond_scale = 2., # classifier free guidance strength (> 1 would strengthen the condition)\n",
    ")\n",
    "\n",
    "for test_idx, test_img_tensor in enumerate(test_img_tensors):\n",
    "    test_img = T.ToPILImage()(test_img_tensor)\n",
    "    test_save_path = os.path.join(test_img_save_path, f\"{test_input[test_idx]}.jpg\")\n",
    "    test_img.save(Path(test_save_path))"
   ]
  }
 ],
 "metadata": {
  "interpreter": {
   "hash": "b3ba2566441a7c06988d0923437866b63cedc61552a5af99d1f4fb67d367b25f"
  },
  "kernelspec": {
   "display_name": "Python 3.9.7 ('base')",
   "language": "python",
   "name": "python3"
  },
  "language_info": {
   "codemirror_mode": {
    "name": "ipython",
    "version": 3
   },
   "file_extension": ".py",
   "mimetype": "text/x-python",
   "name": "python",
   "nbconvert_exporter": "python",
   "pygments_lexer": "ipython3",
   "version": "3.10.4"
  },
  "orig_nbformat": 4
 },
 "nbformat": 4,
 "nbformat_minor": 2
}
