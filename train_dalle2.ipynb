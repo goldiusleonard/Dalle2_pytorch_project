{
 "cells": [
  {
   "cell_type": "markdown",
   "metadata": {},
   "source": [
    "<font size=\"5\">Import Libraries</font>"
   ]
  },
  {
   "cell_type": "code",
   "execution_count": 2,
   "metadata": {},
   "outputs": [
    {
     "name": "stderr",
     "output_type": "stream",
     "text": [
      "c:\\Users\\Administrator\\AppData\\Local\\Programs\\Python\\Python310\\lib\\site-packages\\tqdm\\auto.py:22: TqdmWarning: IProgress not found. Please update jupyter and ipywidgets. See https://ipywidgets.readthedocs.io/en/stable/user_install.html\n",
      "  from .autonotebook import tqdm as notebook_tqdm\n"
     ]
    }
   ],
   "source": [
    "import torch\n",
    "from torchvision import transforms as T\n",
    "from torch.optim.lr_scheduler import ExponentialLR\n",
    "import os\n",
    "from tqdm import tqdm\n",
    "from dalle2_pytorch import DALLE2, DiffusionPriorNetwork, DiffusionPrior, Unet, Decoder, OpenAIClipAdapter, DiffusionPriorTrainer, DecoderTrainer\n",
    "from dalle2_pytorch.tokenizer import SimpleTokenizer\n",
    "from dalle2_pytorch.optimizer import get_optimizer\n",
    "from torchvision.datasets.coco import CocoCaptions"
   ]
  },
  {
   "cell_type": "markdown",
   "metadata": {},
   "source": [
    "<font size=\"5\">Setting Dataset & Training Parameters</font>"
   ]
  },
  {
   "cell_type": "code",
   "execution_count": 3,
   "metadata": {},
   "outputs": [],
   "source": [
    "# Change your input size here\n",
    "input_image_size = 256\n",
    "\n",
    "# Change your batch size here\n",
    "batch_size = 1\n",
    "\n",
    "# Change your epoch here\n",
    "epoch = 1\n",
    "\n",
    "# Change your train image root path here\n",
    "train_img_path = \"./train2014/\"\n",
    "\n",
    "# Change your train annot json path here\n",
    "train_annot_path = \"./coco_annotations/captions_train2014.json\"\n",
    "\n",
    "# Change your device (\"cpu\" or \"cuda\")\n",
    "device = \"cuda\"\n",
    "\n",
    "# Change your diffusion prior model save path here (end with \".pth\")\n",
    "diff_save_path = \"./diff_prior.pth\"\n",
    "\n",
    "# Change your diffusion prior model save path here (end with \".pth\")\n",
    "decoder_save_path = \"./decoder.pth\"\n",
    "\n",
    "# Change the model weight save path here (end with \".pth\")\n",
    "dalle2_save_path = \"./dalle2.pth\""
   ]
  },
  {
   "cell_type": "markdown",
   "metadata": {},
   "source": [
    "<font size=\"5\">Data Preprocessing</font>"
   ]
  },
  {
   "cell_type": "code",
   "execution_count": 4,
   "metadata": {},
   "outputs": [
    {
     "name": "stdout",
     "output_type": "stream",
     "text": [
      "loading annotations into memory...\n",
      "Done (t=0.96s)\n",
      "creating index...\n",
      "index created!\n"
     ]
    }
   ],
   "source": [
    "transform = T.Compose([\n",
    "    T.Lambda(lambda img: img.convert('RGB') if img.mode != 'RGB' else img),\n",
    "    T.Resize(input_image_size),\n",
    "    T.CenterCrop(input_image_size),\n",
    "    T.ToTensor()\n",
    "])\n",
    "\n",
    "train_data = CocoCaptions(\n",
    "    root=train_img_path,\n",
    "    annFile=train_annot_path,\n",
    "    transform=transform\n",
    ")"
   ]
  },
  {
   "cell_type": "markdown",
   "metadata": {},
   "source": [
    "<font size=\"5\">Create Model</font>"
   ]
  },
  {
   "cell_type": "code",
   "execution_count": 5,
   "metadata": {},
   "outputs": [],
   "source": [
    "# openai pretrained clip - defaults to ViT/B-32\n",
    "OpenAIClip = OpenAIClipAdapter()\n",
    "\n",
    "prior_network = DiffusionPriorNetwork(\n",
    "    dim = 512,\n",
    "    depth = 6,\n",
    "    dim_head = 64,\n",
    "    heads = 8\n",
    ").to(device)\n",
    "\n",
    "diffusion_prior = DiffusionPrior(\n",
    "    net = prior_network,\n",
    "    clip = OpenAIClip,\n",
    "    timesteps = 100,\n",
    "    cond_drop_prob = 0.2\n",
    ").to(device)\n",
    "\n",
    "diff_trainer = DiffusionPriorTrainer(\n",
    "    diffusion_prior,\n",
    "    lr = 3e-4,\n",
    "    wd = 1e-2,\n",
    "    ema_beta = 0.99,\n",
    "    ema_update_after_step = 1000,\n",
    "    ema_update_every = 10,\n",
    ")\n",
    "\n",
    "unet1 = Unet(\n",
    "    dim = 128,\n",
    "    image_embed_dim = 512,\n",
    "    cond_dim = 128,\n",
    "    channels = 3,\n",
    "    dim_mults=(1, 2, 4, 8)\n",
    ").to(device)\n",
    "\n",
    "unet2 = Unet(\n",
    "    dim = 16,\n",
    "    image_embed_dim = 512,\n",
    "    cond_dim = 128,\n",
    "    channels = 3,\n",
    "    dim_mults = (1, 2, 4, 8, 16)\n",
    ").to(device)\n",
    "\n",
    "# decoder, which contains the unet and clip\n",
    "\n",
    "decoder = Decoder(\n",
    "    unet = (unet1, unet2),\n",
    "    image_sizes = (128, 256),\n",
    "    clip = OpenAIClip,\n",
    "    timesteps = 100,\n",
    "    image_cond_drop_prob = 0.1,\n",
    "    text_cond_drop_prob = 0.5,\n",
    "    condition_on_text_encodings=False\n",
    ").to(device)\n",
    "\n",
    "decoder_trainer = DecoderTrainer(\n",
    "    decoder,\n",
    "    lr = 3e-4,\n",
    "    wd = 1e-2,\n",
    "    ema_beta = 0.99,\n",
    "    ema_update_after_step = 1000,\n",
    "    ema_update_every = 10,\n",
    ")\n",
    "\n",
    "if os.path.exists(diff_save_path):\n",
    "    diffusion_prior.load_state_dict(torch.load(diff_save_path))\n",
    "\n",
    "if os.path.exists(decoder_save_path):\n",
    "    decoder.load_state_dict(torch.load(decoder_save_path))"
   ]
  },
  {
   "cell_type": "markdown",
   "metadata": {},
   "source": [
    "<font size=\"5\">Run training</font>"
   ]
  },
  {
   "cell_type": "code",
   "execution_count": 6,
   "metadata": {},
   "outputs": [],
   "source": [
    "train_size = len(train_data)\n",
    "idx_list = range(0, train_size, batch_size)\n",
    "\n",
    "tokenizer = SimpleTokenizer()\n",
    "# opt = get_optimizer(diffusion_prior.parameters())\n",
    "# sched = ExponentialLR(opt, gamma=0.01)\n",
    "\n",
    "for curr_epoch in range(epoch):\n",
    "    print(\"Run training diffusion prior ...\")\n",
    "    print(f\"Epoch {curr_epoch+1} / {epoch}\")\n",
    "    \n",
    "    for batch_idx in tqdm(idx_list):\n",
    "        if (batch_idx + batch_size) > train_size - 1:\n",
    "            iter_idx = range(batch_idx, train_size, 1)\n",
    "        else:\n",
    "            iter_idx = range(batch_idx, batch_idx+batch_size, 1)\n",
    "\n",
    "        batch_len = 0\n",
    "        total_loss = torch.tensor(0., device=device)\n",
    "        \n",
    "        for curr_idx in iter_idx:\n",
    "            image, target = train_data[curr_idx]\n",
    "            image = image.unsqueeze(0).to(device)\n",
    "\n",
    "            texts = tokenizer.tokenize(target).to(device)\n",
    "\n",
    "            for text in texts:\n",
    "                if total_loss == torch.tensor(0., device=device):\n",
    "                    total_loss = diff_trainer(text.unsqueeze(0), image)\n",
    "                    # total_loss = diffusion_prior(text.unsqueeze(0), image)\n",
    "                else:\n",
    "                    total_loss += diff_trainer(text.unsqueeze(0), image)\n",
    "                    # total_loss += diffusion_prior(text.unsqueeze(0), image)\n",
    "                batch_len += 1\n",
    "                \n",
    "        avg_loss = total_loss / batch_len\n",
    "\n",
    "        # opt.zero_grad()\n",
    "        avg_loss.backward()\n",
    "        diff_trainer.update()\n",
    "        # opt.step()\n",
    "\n",
    "        if batch_idx % 100 == 0:\n",
    "            torch.save(diffusion_prior.state_dict(), diff_save_path)\n",
    "            print(f\"average loss: {avg_loss.data}\")\n",
    "        \n",
    "    # sched.step()\n",
    "\n",
    "torch.save(diffusion_prior.state_dict(), diff_save_path)"
   ]
  },
  {
   "cell_type": "code",
   "execution_count": 9,
   "metadata": {},
   "outputs": [
    {
     "name": "stdout",
     "output_type": "stream",
     "text": [
      "Run training decoder ...\n",
      "Epoch 1 / 1\n"
     ]
    },
    {
     "name": "stderr",
     "output_type": "stream",
     "text": [
      "  0%|          | 0/82783 [00:01<?, ?it/s]\n"
     ]
    },
    {
     "ename": "AssertionError",
     "evalue": "text or text encodings must be passed into decoder if specified",
     "output_type": "error",
     "traceback": [
      "\u001b[1;31m---------------------------------------------------------------------------\u001b[0m",
      "\u001b[1;31mAssertionError\u001b[0m                            Traceback (most recent call last)",
      "\u001b[1;32mc:\\Users\\Administrator\\Desktop\\Dalle2_pytorch_project-main\\train_dalle2.ipynb Cell 11'\u001b[0m in \u001b[0;36m<cell line: 9>\u001b[1;34m()\u001b[0m\n\u001b[0;32m     <a href='vscode-notebook-cell:/c%3A/Users/Administrator/Desktop/Dalle2_pytorch_project-main/train_dalle2.ipynb#ch0000010?line=29'>30</a>\u001b[0m \u001b[39mfor\u001b[39;00m text \u001b[39min\u001b[39;00m texts:\n\u001b[0;32m     <a href='vscode-notebook-cell:/c%3A/Users/Administrator/Desktop/Dalle2_pytorch_project-main/train_dalle2.ipynb#ch0000010?line=30'>31</a>\u001b[0m     \u001b[39mif\u001b[39;00m total_loss \u001b[39m==\u001b[39m torch\u001b[39m.\u001b[39mtensor(\u001b[39m0.\u001b[39m, device\u001b[39m=\u001b[39mdevice):\n\u001b[1;32m---> <a href='vscode-notebook-cell:/c%3A/Users/Administrator/Desktop/Dalle2_pytorch_project-main/train_dalle2.ipynb#ch0000010?line=31'>32</a>\u001b[0m         total_loss \u001b[39m=\u001b[39m decoder_trainer(image, unet_number\u001b[39m=\u001b[39;49munet_number)\n\u001b[0;32m     <a href='vscode-notebook-cell:/c%3A/Users/Administrator/Desktop/Dalle2_pytorch_project-main/train_dalle2.ipynb#ch0000010?line=32'>33</a>\u001b[0m         \u001b[39m# total_loss = decoder(image, text.unsqueeze(0))\u001b[39;00m\n\u001b[0;32m     <a href='vscode-notebook-cell:/c%3A/Users/Administrator/Desktop/Dalle2_pytorch_project-main/train_dalle2.ipynb#ch0000010?line=33'>34</a>\u001b[0m     \u001b[39melse\u001b[39;00m:\n\u001b[0;32m     <a href='vscode-notebook-cell:/c%3A/Users/Administrator/Desktop/Dalle2_pytorch_project-main/train_dalle2.ipynb#ch0000010?line=34'>35</a>\u001b[0m         total_loss \u001b[39m+\u001b[39m\u001b[39m=\u001b[39m decoder_trainer(image, unet_number\u001b[39m=\u001b[39munet_number)\n",
      "File \u001b[1;32mc:\\Users\\Administrator\\AppData\\Local\\Programs\\Python\\Python310\\lib\\site-packages\\torch\\nn\\modules\\module.py:1110\u001b[0m, in \u001b[0;36mModule._call_impl\u001b[1;34m(self, *input, **kwargs)\u001b[0m\n\u001b[0;32m   <a href='file:///c%3A/Users/Administrator/AppData/Local/Programs/Python/Python310/lib/site-packages/torch/nn/modules/module.py?line=1105'>1106</a>\u001b[0m \u001b[39m# If we don't have any hooks, we want to skip the rest of the logic in\u001b[39;00m\n\u001b[0;32m   <a href='file:///c%3A/Users/Administrator/AppData/Local/Programs/Python/Python310/lib/site-packages/torch/nn/modules/module.py?line=1106'>1107</a>\u001b[0m \u001b[39m# this function, and just call forward.\u001b[39;00m\n\u001b[0;32m   <a href='file:///c%3A/Users/Administrator/AppData/Local/Programs/Python/Python310/lib/site-packages/torch/nn/modules/module.py?line=1107'>1108</a>\u001b[0m \u001b[39mif\u001b[39;00m \u001b[39mnot\u001b[39;00m (\u001b[39mself\u001b[39m\u001b[39m.\u001b[39m_backward_hooks \u001b[39mor\u001b[39;00m \u001b[39mself\u001b[39m\u001b[39m.\u001b[39m_forward_hooks \u001b[39mor\u001b[39;00m \u001b[39mself\u001b[39m\u001b[39m.\u001b[39m_forward_pre_hooks \u001b[39mor\u001b[39;00m _global_backward_hooks\n\u001b[0;32m   <a href='file:///c%3A/Users/Administrator/AppData/Local/Programs/Python/Python310/lib/site-packages/torch/nn/modules/module.py?line=1108'>1109</a>\u001b[0m         \u001b[39mor\u001b[39;00m _global_forward_hooks \u001b[39mor\u001b[39;00m _global_forward_pre_hooks):\n\u001b[1;32m-> <a href='file:///c%3A/Users/Administrator/AppData/Local/Programs/Python/Python310/lib/site-packages/torch/nn/modules/module.py?line=1109'>1110</a>\u001b[0m     \u001b[39mreturn\u001b[39;00m forward_call(\u001b[39m*\u001b[39m\u001b[39minput\u001b[39m, \u001b[39m*\u001b[39m\u001b[39m*\u001b[39mkwargs)\n\u001b[0;32m   <a href='file:///c%3A/Users/Administrator/AppData/Local/Programs/Python/Python310/lib/site-packages/torch/nn/modules/module.py?line=1110'>1111</a>\u001b[0m \u001b[39m# Do not call functions when jit is used\u001b[39;00m\n\u001b[0;32m   <a href='file:///c%3A/Users/Administrator/AppData/Local/Programs/Python/Python310/lib/site-packages/torch/nn/modules/module.py?line=1111'>1112</a>\u001b[0m full_backward_hooks, non_full_backward_hooks \u001b[39m=\u001b[39m [], []\n",
      "File \u001b[1;32mc:\\Users\\Administrator\\AppData\\Local\\Programs\\Python\\Python310\\lib\\site-packages\\dalle2_pytorch\\train.py:319\u001b[0m, in \u001b[0;36mDecoderTrainer.forward\u001b[1;34m(self, x, unet_number, divisor, **kwargs)\u001b[0m\n\u001b[0;32m    <a href='file:///c%3A/Users/Administrator/AppData/Local/Programs/Python/Python310/lib/site-packages/dalle2_pytorch/train.py?line=309'>310</a>\u001b[0m \u001b[39mdef\u001b[39;00m \u001b[39mforward\u001b[39m(\n\u001b[0;32m    <a href='file:///c%3A/Users/Administrator/AppData/Local/Programs/Python/Python310/lib/site-packages/dalle2_pytorch/train.py?line=310'>311</a>\u001b[0m     \u001b[39mself\u001b[39m,\n\u001b[0;32m    <a href='file:///c%3A/Users/Administrator/AppData/Local/Programs/Python/Python310/lib/site-packages/dalle2_pytorch/train.py?line=311'>312</a>\u001b[0m     x,\n\u001b[1;32m   (...)\u001b[0m\n\u001b[0;32m    <a href='file:///c%3A/Users/Administrator/AppData/Local/Programs/Python/Python310/lib/site-packages/dalle2_pytorch/train.py?line=315'>316</a>\u001b[0m     \u001b[39m*\u001b[39m\u001b[39m*\u001b[39mkwargs\n\u001b[0;32m    <a href='file:///c%3A/Users/Administrator/AppData/Local/Programs/Python/Python310/lib/site-packages/dalle2_pytorch/train.py?line=316'>317</a>\u001b[0m ):\n\u001b[0;32m    <a href='file:///c%3A/Users/Administrator/AppData/Local/Programs/Python/Python310/lib/site-packages/dalle2_pytorch/train.py?line=317'>318</a>\u001b[0m     \u001b[39mwith\u001b[39;00m autocast(enabled \u001b[39m=\u001b[39m \u001b[39mself\u001b[39m\u001b[39m.\u001b[39mamp):\n\u001b[1;32m--> <a href='file:///c%3A/Users/Administrator/AppData/Local/Programs/Python/Python310/lib/site-packages/dalle2_pytorch/train.py?line=318'>319</a>\u001b[0m         loss \u001b[39m=\u001b[39m \u001b[39mself\u001b[39m\u001b[39m.\u001b[39mdecoder(x, unet_number \u001b[39m=\u001b[39m unet_number, \u001b[39m*\u001b[39m\u001b[39m*\u001b[39mkwargs)\n\u001b[0;32m    <a href='file:///c%3A/Users/Administrator/AppData/Local/Programs/Python/Python310/lib/site-packages/dalle2_pytorch/train.py?line=319'>320</a>\u001b[0m     \u001b[39mreturn\u001b[39;00m \u001b[39mself\u001b[39m\u001b[39m.\u001b[39mscale(loss \u001b[39m/\u001b[39m divisor, unet_number \u001b[39m=\u001b[39m unet_number)\n",
      "File \u001b[1;32mc:\\Users\\Administrator\\AppData\\Local\\Programs\\Python\\Python310\\lib\\site-packages\\torch\\nn\\modules\\module.py:1110\u001b[0m, in \u001b[0;36mModule._call_impl\u001b[1;34m(self, *input, **kwargs)\u001b[0m\n\u001b[0;32m   <a href='file:///c%3A/Users/Administrator/AppData/Local/Programs/Python/Python310/lib/site-packages/torch/nn/modules/module.py?line=1105'>1106</a>\u001b[0m \u001b[39m# If we don't have any hooks, we want to skip the rest of the logic in\u001b[39;00m\n\u001b[0;32m   <a href='file:///c%3A/Users/Administrator/AppData/Local/Programs/Python/Python310/lib/site-packages/torch/nn/modules/module.py?line=1106'>1107</a>\u001b[0m \u001b[39m# this function, and just call forward.\u001b[39;00m\n\u001b[0;32m   <a href='file:///c%3A/Users/Administrator/AppData/Local/Programs/Python/Python310/lib/site-packages/torch/nn/modules/module.py?line=1107'>1108</a>\u001b[0m \u001b[39mif\u001b[39;00m \u001b[39mnot\u001b[39;00m (\u001b[39mself\u001b[39m\u001b[39m.\u001b[39m_backward_hooks \u001b[39mor\u001b[39;00m \u001b[39mself\u001b[39m\u001b[39m.\u001b[39m_forward_hooks \u001b[39mor\u001b[39;00m \u001b[39mself\u001b[39m\u001b[39m.\u001b[39m_forward_pre_hooks \u001b[39mor\u001b[39;00m _global_backward_hooks\n\u001b[0;32m   <a href='file:///c%3A/Users/Administrator/AppData/Local/Programs/Python/Python310/lib/site-packages/torch/nn/modules/module.py?line=1108'>1109</a>\u001b[0m         \u001b[39mor\u001b[39;00m _global_forward_hooks \u001b[39mor\u001b[39;00m _global_forward_pre_hooks):\n\u001b[1;32m-> <a href='file:///c%3A/Users/Administrator/AppData/Local/Programs/Python/Python310/lib/site-packages/torch/nn/modules/module.py?line=1109'>1110</a>\u001b[0m     \u001b[39mreturn\u001b[39;00m forward_call(\u001b[39m*\u001b[39m\u001b[39minput\u001b[39m, \u001b[39m*\u001b[39m\u001b[39m*\u001b[39mkwargs)\n\u001b[0;32m   <a href='file:///c%3A/Users/Administrator/AppData/Local/Programs/Python/Python310/lib/site-packages/torch/nn/modules/module.py?line=1110'>1111</a>\u001b[0m \u001b[39m# Do not call functions when jit is used\u001b[39;00m\n\u001b[0;32m   <a href='file:///c%3A/Users/Administrator/AppData/Local/Programs/Python/Python310/lib/site-packages/torch/nn/modules/module.py?line=1111'>1112</a>\u001b[0m full_backward_hooks, non_full_backward_hooks \u001b[39m=\u001b[39m [], []\n",
      "File \u001b[1;32mc:\\Users\\Administrator\\AppData\\Local\\Programs\\Python\\Python310\\lib\\site-packages\\dalle2_pytorch\\dalle2_pytorch.py:1855\u001b[0m, in \u001b[0;36mDecoder.forward\u001b[1;34m(self, image, text, image_embed, text_encodings, unet_number)\u001b[0m\n\u001b[0;32m   <a href='file:///c%3A/Users/Administrator/AppData/Local/Programs/Python/Python310/lib/site-packages/dalle2_pytorch/dalle2_pytorch.py?line=1851'>1852</a>\u001b[0m     \u001b[39massert\u001b[39;00m exists(\u001b[39mself\u001b[39m\u001b[39m.\u001b[39mclip), \u001b[39m'\u001b[39m\u001b[39mif you are passing in raw text, you need to supply `clip` to the decoder\u001b[39m\u001b[39m'\u001b[39m\n\u001b[0;32m   <a href='file:///c%3A/Users/Administrator/AppData/Local/Programs/Python/Python310/lib/site-packages/dalle2_pytorch/dalle2_pytorch.py?line=1852'>1853</a>\u001b[0m     _, text_encodings, text_mask \u001b[39m=\u001b[39m \u001b[39mself\u001b[39m\u001b[39m.\u001b[39mclip\u001b[39m.\u001b[39membed_text(text)\n\u001b[1;32m-> <a href='file:///c%3A/Users/Administrator/AppData/Local/Programs/Python/Python310/lib/site-packages/dalle2_pytorch/dalle2_pytorch.py?line=1854'>1855</a>\u001b[0m \u001b[39massert\u001b[39;00m \u001b[39mnot\u001b[39;00m (\u001b[39mself\u001b[39m\u001b[39m.\u001b[39mcondition_on_text_encodings \u001b[39mand\u001b[39;00m \u001b[39mnot\u001b[39;00m exists(text_encodings)), \u001b[39m'\u001b[39m\u001b[39mtext or text encodings must be passed into decoder if specified\u001b[39m\u001b[39m'\u001b[39m\n\u001b[0;32m   <a href='file:///c%3A/Users/Administrator/AppData/Local/Programs/Python/Python310/lib/site-packages/dalle2_pytorch/dalle2_pytorch.py?line=1855'>1856</a>\u001b[0m \u001b[39massert\u001b[39;00m \u001b[39mnot\u001b[39;00m (\u001b[39mnot\u001b[39;00m \u001b[39mself\u001b[39m\u001b[39m.\u001b[39mcondition_on_text_encodings \u001b[39mand\u001b[39;00m exists(text_encodings)), \u001b[39m'\u001b[39m\u001b[39mdecoder specified not to be conditioned on text, yet it is presented\u001b[39m\u001b[39m'\u001b[39m\n\u001b[0;32m   <a href='file:///c%3A/Users/Administrator/AppData/Local/Programs/Python/Python310/lib/site-packages/dalle2_pytorch/dalle2_pytorch.py?line=1857'>1858</a>\u001b[0m lowres_cond_img \u001b[39m=\u001b[39m \u001b[39mself\u001b[39m\u001b[39m.\u001b[39mto_lowres_cond(image, target_image_size \u001b[39m=\u001b[39m target_image_size, downsample_image_size \u001b[39m=\u001b[39m \u001b[39mself\u001b[39m\u001b[39m.\u001b[39mimage_sizes[unet_index \u001b[39m-\u001b[39m \u001b[39m1\u001b[39m]) \u001b[39mif\u001b[39;00m unet_number \u001b[39m>\u001b[39m \u001b[39m1\u001b[39m \u001b[39melse\u001b[39;00m \u001b[39mNone\u001b[39;00m\n",
      "\u001b[1;31mAssertionError\u001b[0m: text or text encodings must be passed into decoder if specified"
     ]
    }
   ],
   "source": [
    "train_size = len(train_data)\n",
    "idx_list = range(0, train_size, batch_size)\n",
    "\n",
    "tokenizer = SimpleTokenizer()\n",
    "\n",
    "# opt = get_optimizer(decoder.parameters())\n",
    "# sched = ExponentialLR(opt, gamma=0.01)\n",
    "\n",
    "for curr_epoch in range(epoch):\n",
    "    print(\"Run training decoder ...\")\n",
    "    print(f\"Epoch {curr_epoch+1} / {epoch}\")\n",
    "    \n",
    "    for batch_idx in tqdm(idx_list):\n",
    "        if (batch_idx + batch_size) > train_size - 1:\n",
    "            iter_idx = range(batch_idx, train_size, 1)\n",
    "        else:\n",
    "            iter_idx = range(batch_idx, batch_idx+batch_size, 1)\n",
    "\n",
    "\n",
    "        for unet_number in (1,2):\n",
    "            batch_len = 0\n",
    "            total_loss = torch.tensor(0., device=device)\n",
    "            \n",
    "            for curr_idx in iter_idx:\n",
    "                image, _ = train_data[curr_idx]\n",
    "                image = image.unsqueeze(0).type(torch.FloatTensor).to(device)\n",
    "\n",
    "                # texts = tokenizer.tokenize(target).to(device)\n",
    "\n",
    "                # for text in texts:\n",
    "                if total_loss == torch.tensor(0., device=device):\n",
    "                    total_loss = decoder_trainer(image, unet_number=unet_number)\n",
    "                    # total_loss = decoder(image, text.unsqueeze(0))\n",
    "                else:\n",
    "                    total_loss += decoder_trainer(image, unet_number=unet_number)\n",
    "                    # total_loss += decoder(image, text.unsqueeze(0))\n",
    "                batch_len += 1\n",
    "                    \n",
    "            avg_loss = total_loss / batch_len\n",
    "            # opt.zero_grad()\n",
    "            avg_loss.backward()\n",
    "            decoder_trainer.update(unet_number=unet_number)\n",
    "            # opt.step()\n",
    "\n",
    "        if batch_idx % 100 == 0:\n",
    "            torch.save(decoder.state_dict(), decoder_save_path)\n",
    "            print(f\"average loss: {avg_loss.data}\")\n",
    "        \n",
    "    # sched.step()\n",
    "\n",
    "torch.save(decoder.state_dict(), decoder_save_path)"
   ]
  },
  {
   "cell_type": "markdown",
   "metadata": {},
   "source": [
    "<font size=\"5\">Save Trained Model</font>"
   ]
  },
  {
   "cell_type": "code",
   "execution_count": null,
   "metadata": {},
   "outputs": [],
   "source": [
    "dalle2 = DALLE2(\n",
    "    prior = diffusion_prior,\n",
    "    decoder = decoder\n",
    ").to(device)\n",
    "\n",
    "torch.save(dalle2.state_dict(), dalle2_save_path)"
   ]
  }
 ],
 "metadata": {
  "interpreter": {
   "hash": "3196968d684371006099b3d55edeef8ed90365227a30deaef86e5d4aa8519be0"
  },
  "kernelspec": {
   "display_name": "Python 3.10.4 64-bit",
   "language": "python",
   "name": "python3"
  },
  "language_info": {
   "codemirror_mode": {
    "name": "ipython",
    "version": 3
   },
   "file_extension": ".py",
   "mimetype": "text/x-python",
   "name": "python",
   "nbconvert_exporter": "python",
   "pygments_lexer": "ipython3",
   "version": "3.10.4"
  },
  "orig_nbformat": 4
 },
 "nbformat": 4,
 "nbformat_minor": 2
}
