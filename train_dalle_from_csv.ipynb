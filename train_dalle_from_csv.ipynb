{
 "cells": [
  {
   "cell_type": "markdown",
   "metadata": {},
   "source": [
    "<font size=\"5\">Import Libraries</font>"
   ]
  },
  {
   "cell_type": "code",
   "execution_count": null,
   "metadata": {},
   "outputs": [],
   "source": [
    "import torch\n",
    "from torchvision import transforms as T\n",
    "from torch.optim import Adam\n",
    "from torch.optim.lr_scheduler import ReduceLROnPlateau\n",
    "from PIL import Image\n",
    "import os\n",
    "from tqdm import tqdm\n",
    "from dalle_pytorch import DiscreteVAE, DALLE\n",
    "from dalle_pytorch.tokenizer import SimpleTokenizer\n",
    "import pandas as pd"
   ]
  },
  {
   "cell_type": "markdown",
   "metadata": {},
   "source": [
    "<font size=\"5\">Setting Dataset & Training Parameters</font>"
   ]
  },
  {
   "cell_type": "code",
   "execution_count": null,
   "metadata": {},
   "outputs": [],
   "source": [
    "# Change your input size here\n",
    "input_image_size = 256\n",
    "\n",
    "# Change your batch size here\n",
    "batch_size = 1\n",
    "\n",
    "# Change your epoch here\n",
    "epoch = 5\n",
    "\n",
    "# Change your train image root path here\n",
    "train_img_path = \"./Flower_Dataset_Combine/ImagesCombine/\"\n",
    "\n",
    "# Change your train annot csv path here\n",
    "train_annot_path = \"./Flower_Dataset_Combine/New_captions.csv\"\n",
    "\n",
    "# Change your device (\"cpu\" or \"cuda\")\n",
    "device = \"cuda\"\n",
    "\n",
    "# Change your VAE save path here (ends with \".pth\")\n",
    "vae_save_path = \"./vae.pth\"\n",
    "\n",
    "# Change your dalle model save path here (ends with \".pth\")\n",
    "dalle_save_path = \"./dalle.pth\""
   ]
  },
  {
   "cell_type": "markdown",
   "metadata": {},
   "source": [
    "<font size=\"5\">Data Preprocessing</font>"
   ]
  },
  {
   "cell_type": "code",
   "execution_count": null,
   "metadata": {},
   "outputs": [],
   "source": [
    "transform = T.Compose([\n",
    "    T.Lambda(lambda img: img.convert('RGB') if img.mode != 'RGB' else img),\n",
    "    T.Resize(input_image_size),\n",
    "    T.CenterCrop(input_image_size),\n",
    "    T.ToTensor()\n",
    "])\n",
    "\n",
    "train_csv= pd.read_csv(train_annot_path)\n",
    "\n",
    "train_csv = train_csv.drop_duplicates()\n",
    "train_csv = train_csv.dropna()"
   ]
  },
  {
   "cell_type": "markdown",
   "metadata": {},
   "source": [
    "<font size=\"5\">Create VAE Model</font>"
   ]
  },
  {
   "cell_type": "code",
   "execution_count": null,
   "metadata": {},
   "outputs": [],
   "source": [
    "vae = DiscreteVAE(\n",
    "    image_size = 256,\n",
    "    num_layers = 3,\n",
    "    num_tokens = 8192,\n",
    "    codebook_dim = 1024,\n",
    "    hidden_dim = 64,\n",
    "    num_resnet_blocks = 1,\n",
    "    temperature = 0.9\n",
    ").to(device)\n",
    "\n",
    "if os.path.exists(vae_save_path):\n",
    "    vae.load_state_dict(torch.load(vae_save_path))"
   ]
  },
  {
   "cell_type": "markdown",
   "metadata": {},
   "source": [
    "<font size=\"5\">Train VAE Model</font>"
   ]
  },
  {
   "cell_type": "code",
   "execution_count": null,
   "metadata": {},
   "outputs": [],
   "source": [
    "train_size = len(train_csv)\n",
    "idx_list = range(0, train_size, batch_size)\n",
    "\n",
    "tokenizer = SimpleTokenizer()\n",
    "opt = Adam(\n",
    "    vae.parameters(),\n",
    "    lr = 3e-4,\n",
    "    weight_decay=0.01,\n",
    "    betas = (0.9, 0.999)\n",
    ")\n",
    "sched = ReduceLROnPlateau(\n",
    "    opt,\n",
    "    mode=\"min\",\n",
    "    factor=0.5,\n",
    "    patience=10,\n",
    "    cooldown=10,\n",
    "    min_lr=1e-6,\n",
    "    verbose=True,\n",
    ")\n",
    "\n",
    "for curr_epoch in range(epoch):\n",
    "    print(\"Run training discrete vae ...\")\n",
    "    print(f\"Epoch {curr_epoch+1} / {epoch}\")\n",
    "    \n",
    "    for batch_idx in tqdm(idx_list):\n",
    "        if (batch_idx + batch_size) > train_size - 1:\n",
    "            iter_idx = range(batch_idx, train_size, 1)\n",
    "        else:\n",
    "            iter_idx = range(batch_idx, batch_idx+batch_size, 1)\n",
    "\n",
    "        batch_len = 0\n",
    "        total_loss = torch.tensor(0., device=device)\n",
    "\n",
    "        for curr_idx in iter_idx:\n",
    "            image_name = train_csv.loc[curr_idx]['file_name']\n",
    "            image_path = os.path.join(train_img_path, image_name)\n",
    "            image = Image.open(image_path)\n",
    "            image = transform(image)\n",
    "            image = image.unsqueeze(0).to(device)\n",
    "\n",
    "            if total_loss == torch.tensor(0., device=device):\n",
    "                total_loss = vae(image, return_loss=True)\n",
    "            else:\n",
    "                total_loss += vae(image, return_loss=True)\n",
    "            batch_len += 1\n",
    "                \n",
    "        avg_loss = total_loss / batch_len\n",
    "\n",
    "        opt.zero_grad()\n",
    "        avg_loss.backward()\n",
    "        opt.step()\n",
    "\n",
    "        if batch_idx % 100 == 0:\n",
    "            torch.save(vae.state_dict(), vae_save_path)\n",
    "            print(f\"loss: {avg_loss.data}\")\n",
    "        \n",
    "    sched.step(avg_loss)\n",
    "\n",
    "torch.save(vae.state_dict(), vae_save_path)"
   ]
  },
  {
   "cell_type": "markdown",
   "metadata": {},
   "source": [
    "<font size=\"5\">Create DALLE Model</font>"
   ]
  },
  {
   "cell_type": "code",
   "execution_count": null,
   "metadata": {},
   "outputs": [],
   "source": [
    "tokenizer = SimpleTokenizer()\n",
    "\n",
    "dalle = DALLE(\n",
    "    dim = 1024,\n",
    "    vae = vae,                  # automatically infer (1) image sequence length and (2) number of image tokens\n",
    "    num_text_tokens = 49408,    # vocab size for text\n",
    "    text_seq_len = 256,         # text sequence length\n",
    "    depth = 1,                  # should aim to be 64\n",
    "    heads = 16,                 # attention heads\n",
    "    dim_head = 64,              # attention head dimension\n",
    "    attn_dropout = 0.1,         # attention dropout\n",
    "    ff_dropout = 0.1            # feedforward dropout\n",
    ").to(device)\n",
    "\n",
    "if os.path.exists(dalle_save_path):\n",
    "    dalle.load_state_dict(torch.load(dalle_save_path))"
   ]
  },
  {
   "cell_type": "markdown",
   "metadata": {},
   "source": [
    "<font size=\"5\">Train DALLE Model</font>"
   ]
  },
  {
   "cell_type": "code",
   "execution_count": null,
   "metadata": {},
   "outputs": [],
   "source": [
    "train_size = len(train_csv)\n",
    "idx_list = range(0, train_size, batch_size)\n",
    "\n",
    "opt = Adam(\n",
    "    dalle.parameters(),\n",
    "    lr = 3e-4,\n",
    "    weight_decay=0.01,\n",
    "    betas = (0.9, 0.999)\n",
    ")\n",
    "sched = ReduceLROnPlateau(\n",
    "    opt,\n",
    "    mode=\"min\",\n",
    "    factor=0.5,\n",
    "    patience=10,\n",
    "    cooldown=10,\n",
    "    min_lr=1e-6,\n",
    "    verbose=True,\n",
    ")\n",
    "\n",
    "for curr_epoch in range(epoch):\n",
    "    print(\"Run training dalle ...\")\n",
    "    print(f\"Epoch {curr_epoch+1} / {epoch}\")\n",
    "    \n",
    "    for batch_idx in tqdm(idx_list):\n",
    "        if (batch_idx + batch_size) > train_size - 1:\n",
    "            iter_idx = range(batch_idx, train_size, 1)\n",
    "        else:\n",
    "            iter_idx = range(batch_idx, batch_idx+batch_size, 1)\n",
    "\n",
    "        batch_len = 0\n",
    "        total_loss = torch.tensor(0., device=device)\n",
    "\n",
    "        for curr_idx in iter_idx:\n",
    "            image_name = train_csv.loc[curr_idx]['file_name']\n",
    "            image_path = os.path.join(train_img_path, image_name)\n",
    "            image = Image.open(image_path)\n",
    "            image = transform(image)\n",
    "            image = image.unsqueeze(0).to(device)\n",
    "\n",
    "            target = [train_csv.loc[curr_idx]['caption']]\n",
    "            texts = tokenizer.tokenize(target).to(device)\n",
    "\n",
    "            for text in texts:\n",
    "                if total_loss == torch.tensor(0., device=device):\n",
    "                    total_loss = dalle(text.unsqueeze(0), image, return_loss=True)\n",
    "                else:\n",
    "                    total_loss += dalle(text.unsqueeze(0), image, return_loss=True)\n",
    "                batch_len += 1\n",
    "                \n",
    "        avg_loss = total_loss / batch_len\n",
    "\n",
    "        opt.zero_grad()\n",
    "        avg_loss.backward()\n",
    "        opt.step()\n",
    "\n",
    "        if batch_idx % 100 == 0:\n",
    "            torch.save(dalle.state_dict(), dalle_save_path)\n",
    "            print(f\"average loss: {avg_loss.data}\")\n",
    "        \n",
    "    sched.step(avg_loss)\n",
    "\n",
    "torch.save(dalle.state_dict(), dalle_save_path)"
   ]
  }
 ],
 "metadata": {
  "interpreter": {
   "hash": "4e0b39fdc4f2df2992ef135d097972ec225e019845a073717c5b1bc8df292c8a"
  },
  "kernelspec": {
   "display_name": "Python 3.10.4 64-bit",
   "language": "python",
   "name": "python3"
  },
  "language_info": {
   "codemirror_mode": {
    "name": "ipython",
    "version": 3
   },
   "file_extension": ".py",
   "mimetype": "text/x-python",
   "name": "python",
   "nbconvert_exporter": "python",
   "pygments_lexer": "ipython3",
   "version": "3.10.4"
  },
  "orig_nbformat": 4
 },
 "nbformat": 4,
 "nbformat_minor": 2
}
